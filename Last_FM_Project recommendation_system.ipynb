{
 "cells": [
  {
   "cell_type": "markdown",
   "metadata": {},
   "source": [
    "### Last_FM_Project"
   ]
  },
  {
   "cell_type": "raw",
   "metadata": {},
   "source": [
    "LightFM is a Python implementation of a number of popular recommendation algorithms for both implicit and explicit feedback."
   ]
  },
  {
   "cell_type": "raw",
   "metadata": {},
   "source": [
    "It's a hybrid matrix factorisation model representing users and items as linear combinations of their content features' latent factors. \n",
    "The model outperforms both collaborative and content-based models in cold-start or sparse interaction data scenarios (using both user and item metadata), and performs at least as well as a pure collaborative matrix factorisation model where interaction data is abundant. \n",
    "Additionally, feature embeddings produced by the model encode semantic information in a way reminiscent of word embedding approaches, making them useful for a range of related tasks such as tag recommendations. "
   ]
  },
  {
   "cell_type": "markdown",
   "metadata": {},
   "source": [
    "#### explicit feedback :\n",
    "for example, we have the ratings users have given to movies they watched."
   ]
  },
  {
   "cell_type": "markdown",
   "metadata": {},
   "source": [
    "#### implicit feedback : \n",
    "when a user doesn't rate a movie, it's a user’s conscious choice, and it is a good source of information on what he thinks he might like."
   ]
  },
  {
   "cell_type": "raw",
   "metadata": {},
   "source": [
    "We can use a collaborative model like LightFM"
   ]
  },
  {
   "cell_type": "raw",
   "metadata": {},
   "source": [
    "We're going to use the WARP (Weighted Approximate-Rank Pairwise) model. WARP is an implicit feedback model: all interactions in the training matrix are treated as positive signals, and products that users did not interact with they implicitly do not like. The goal of the model is to score these implicit positives highly while assigining low scores to implicit negatives."
   ]
  },
  {
   "cell_type": "markdown",
   "metadata": {},
   "source": [
    "#### Example of using lighFM :\n",
    "Model training is accomplished via SGD (stochastic gradient descent). This means that for every pass through the data --- an epoch --- the model learns to fit the data more and more closely. We'll run it for 30 epochs in this example. We can also run it on multiple cores, so we'll set that to 2. (The dataset in this example is too small for that to make a difference, but it will matter on bigger datasets.)"
   ]
  },
  {
   "cell_type": "code",
   "execution_count": 2,
   "metadata": {},
   "outputs": [],
   "source": [
    "from lightfm import LightFM\n",
    "from lightfm.datasets import fetch_movielens\n",
    "from lightfm.evaluation import precision_at_k\n",
    "\n",
    "# Load the MovieLens 100k dataset. Only five\n",
    "# star ratings are treated as positive.\n",
    "data = fetch_movielens(min_rating=5.0)\n",
    "\n",
    "# Instantiate and train the model\n",
    "model = LightFM(loss='warp') # WARP is an implicit feedback model:\n",
    "model.fit(data['train'], epochs=30, num_threads=2)\n",
    "\n",
    "# Evaluate the trained model\n",
    "test_precision = precision_at_k(model, data['test'], k=5).mean()"
   ]
  },
  {
   "cell_type": "raw",
   "metadata": {},
   "source": [
    "For an alternative way of judging the model, we can sample a couple of users and get their recommendations. To make predictions for given user, we pass the id of that user and the ids of all products we want predictions for into the predict method."
   ]
  },
  {
   "cell_type": "code",
   "execution_count": 3,
   "metadata": {},
   "outputs": [
    {
     "name": "stdout",
     "output_type": "stream",
     "text": [
      "User 3\n",
      "     Known positives:\n",
      "        Contact (1997)\n",
      "        Air Force One (1997)\n",
      "        In & Out (1997)\n",
      "     Recommended:\n",
      "        L.A. Confidential (1997)\n",
      "        English Patient, The (1996)\n",
      "        Conspiracy Theory (1997)\n",
      "User 25\n",
      "     Known positives:\n",
      "        Fargo (1996)\n",
      "        Godfather, The (1972)\n",
      "        L.A. Confidential (1997)\n",
      "     Recommended:\n",
      "        Godfather, The (1972)\n",
      "        Titanic (1997)\n",
      "        L.A. Confidential (1997)\n",
      "User 450\n",
      "     Known positives:\n",
      "        Event Horizon (1997)\n",
      "        Scream (1996)\n",
      "        Conspiracy Theory (1997)\n",
      "     Recommended:\n",
      "        G.I. Jane (1997)\n",
      "        Conspiracy Theory (1997)\n",
      "        Scream (1996)\n"
     ]
    }
   ],
   "source": [
    "import numpy as np\n",
    "\n",
    "def sample_recommendation(model, data, user_ids):\n",
    "    n_users, n_items = data['train'].shape\n",
    "    for user_id in user_ids:\n",
    "        known_positives = data['item_labels'][data['train'].tocsr()[user_id].indices]\n",
    "        scores = model.predict(user_id, np.arange(n_items))\n",
    "        top_items = data['item_labels'][np.argsort(-scores)]\n",
    "        print(\"User %s\" % user_id)\n",
    "        print(\"     Known positives:\")\n",
    "        for x in known_positives[:3]:\n",
    "            print(\"        %s\" % x)\n",
    "\n",
    "        print(\"     Recommended:\")\n",
    "        for x in top_items[:3]:\n",
    "            print(\"        %s\" % x)\n",
    "sample_recommendation(model, data, [3, 25, 450])"
   ]
  },
  {
   "cell_type": "code",
   "execution_count": 4,
   "metadata": {},
   "outputs": [],
   "source": [
    "import pandas as pd\n",
    "import numpy as np"
   ]
  },
  {
   "cell_type": "code",
   "execution_count": 5,
   "metadata": {
    "scrolled": true
   },
   "outputs": [
    {
     "name": "stdout",
     "output_type": "stream",
     "text": [
      "                    totalUsers  totalPlays     avgPlays\n",
      "name                                                   \n",
      "Britney Spears             522     2393140  4584.559387\n",
      "Depeche Mode               282     1301308  4614.567376\n",
      "Lady Gaga                  611     1291387  2113.563011\n",
      "Christina Aguilera         407     1058405  2600.503686\n",
      "Paramore                   399      963449  2414.659148\n",
      "...                        ...         ...          ...\n",
      "Morris                       1           1     1.000000\n",
      "Eddie Kendricks              1           1     1.000000\n",
      "Excess Pressure              1           1     1.000000\n",
      "My Mine                      1           1     1.000000\n",
      "A.M. Architect               1           1     1.000000\n",
      "\n",
      "[17632 rows x 3 columns]\n"
     ]
    }
   ],
   "source": [
    "plays = pd.read_csv('lightFM/data/user_artists.dat', sep='\\t')\n",
    "artists = pd.read_csv('lightFM/data/artists.dat', sep='\\t', usecols=['id','name'])\n",
    "\n",
    "# Merge artist and user pref data\n",
    "ap = pd.merge(artists, plays, how=\"inner\", left_on=\"id\", right_on=\"artistID\")\n",
    "ap = ap.rename(columns={\"weight\": \"playCount\"})\n",
    "\n",
    "# Group artist by name\n",
    "artist_rank = ap.groupby(['name']) \\\n",
    "    .agg({'userID' : 'count', 'playCount' : 'sum'}) \\\n",
    "    .rename(columns={\"userID\" : 'totalUsers', \"playCount\" : \"totalPlays\"}) \\\n",
    "    .sort_values(['totalPlays'], ascending=False)\n",
    "\n",
    "artist_rank['avgPlays'] = artist_rank['totalPlays'] / artist_rank['totalUsers']\n",
    "print(artist_rank)"
   ]
  },
  {
   "cell_type": "code",
   "execution_count": 6,
   "metadata": {},
   "outputs": [
    {
     "data": {
      "text/html": [
       "<div>\n",
       "<style scoped>\n",
       "    .dataframe tbody tr th:only-of-type {\n",
       "        vertical-align: middle;\n",
       "    }\n",
       "\n",
       "    .dataframe tbody tr th {\n",
       "        vertical-align: top;\n",
       "    }\n",
       "\n",
       "    .dataframe thead th {\n",
       "        text-align: right;\n",
       "    }\n",
       "</style>\n",
       "<table border=\"1\" class=\"dataframe\">\n",
       "  <thead>\n",
       "    <tr style=\"text-align: right;\">\n",
       "      <th></th>\n",
       "      <th>id</th>\n",
       "      <th>name</th>\n",
       "      <th>userID</th>\n",
       "      <th>artistID</th>\n",
       "      <th>playCount</th>\n",
       "    </tr>\n",
       "  </thead>\n",
       "  <tbody>\n",
       "    <tr>\n",
       "      <th>0</th>\n",
       "      <td>1</td>\n",
       "      <td>MALICE MIZER</td>\n",
       "      <td>34</td>\n",
       "      <td>1</td>\n",
       "      <td>212</td>\n",
       "    </tr>\n",
       "    <tr>\n",
       "      <th>1</th>\n",
       "      <td>1</td>\n",
       "      <td>MALICE MIZER</td>\n",
       "      <td>274</td>\n",
       "      <td>1</td>\n",
       "      <td>483</td>\n",
       "    </tr>\n",
       "    <tr>\n",
       "      <th>2</th>\n",
       "      <td>1</td>\n",
       "      <td>MALICE MIZER</td>\n",
       "      <td>785</td>\n",
       "      <td>1</td>\n",
       "      <td>76</td>\n",
       "    </tr>\n",
       "    <tr>\n",
       "      <th>3</th>\n",
       "      <td>2</td>\n",
       "      <td>Diary of Dreams</td>\n",
       "      <td>135</td>\n",
       "      <td>2</td>\n",
       "      <td>1021</td>\n",
       "    </tr>\n",
       "    <tr>\n",
       "      <th>4</th>\n",
       "      <td>2</td>\n",
       "      <td>Diary of Dreams</td>\n",
       "      <td>257</td>\n",
       "      <td>2</td>\n",
       "      <td>152</td>\n",
       "    </tr>\n",
       "  </tbody>\n",
       "</table>\n",
       "</div>"
      ],
      "text/plain": [
       "   id             name  userID  artistID  playCount\n",
       "0   1     MALICE MIZER      34         1        212\n",
       "1   1     MALICE MIZER     274         1        483\n",
       "2   1     MALICE MIZER     785         1         76\n",
       "3   2  Diary of Dreams     135         2       1021\n",
       "4   2  Diary of Dreams     257         2        152"
      ]
     },
     "execution_count": 6,
     "metadata": {},
     "output_type": "execute_result"
    }
   ],
   "source": [
    "ap.head()"
   ]
  },
  {
   "cell_type": "code",
   "execution_count": 7,
   "metadata": {},
   "outputs": [
    {
     "name": "stdout",
     "output_type": "stream",
     "text": [
      "sparsity: 0.28\n"
     ]
    }
   ],
   "source": [
    "# Merge into ap matrix\n",
    "#ap = ap.join(artist_rank, on=\"name\", how=\"inner\") \\\n",
    "    #.sort_values(['playCount'], ascending=False)\n",
    "\n",
    "# Preprocessing\n",
    "pc = ap.playCount\n",
    "play_count_scaled = (pc - pc.min()) / (pc.max() - pc.min())\n",
    "ap = ap.assign(playCountScaled=play_count_scaled)\n",
    "#print(ap)\n",
    "\n",
    "# Build a user-artist rating matrix \n",
    "ratings_df = ap.pivot(index='userID', columns='artistID', values='playCountScaled')\n",
    "ratings = ratings_df.fillna(0).values\n",
    "\n",
    "# Show sparsity\n",
    "sparsity = float(len(ratings.nonzero()[0])) / (ratings.shape[0] * ratings.shape[1]) * 100\n",
    "print(\"sparsity: %.2f\" % sparsity)\n",
    "#print(ap.il)"
   ]
  },
  {
   "cell_type": "code",
   "execution_count": 8,
   "metadata": {},
   "outputs": [
    {
     "name": "stdout",
     "output_type": "stream",
     "text": [
      "rating matrix shape (1892, 17632)\n"
     ]
    },
    {
     "data": {
      "text/plain": [
       "array(['MALICE MIZER', 'Diary of Dreams', 'Carpathian Forest', ...,\n",
       "       'Coptic Rain', 'Oz Alchemist', 'Grzegorz Tomczak'], dtype=object)"
      ]
     },
     "execution_count": 8,
     "metadata": {},
     "output_type": "execute_result"
    }
   ],
   "source": [
    "from scipy.sparse import csr_matrix\n",
    "\n",
    "# Build a sparse matrix\n",
    "X = csr_matrix(ratings)\n",
    "\n",
    "n_users, n_items = ratings_df.shape\n",
    "print(\"rating matrix shape\", ratings_df.shape)\n",
    "\n",
    "user_ids = ratings_df.index.values\n",
    "artist_names = ap.sort_values(\"artistID\")[\"name\"].unique()\n",
    "artist_names"
   ]
  },
  {
   "cell_type": "code",
   "execution_count": 9,
   "metadata": {},
   "outputs": [],
   "source": [
    "from lightfm import LightFM\n",
    "from lightfm.evaluation import auc_score, precision_at_k, recall_at_k\n",
    "from lightfm.cross_validation import random_train_test_split\n",
    "from lightfm.data import Dataset\n",
    "\n",
    "# Build data references + train test\n",
    "Xcoo = X.tocoo() #coordonnees xsparse de ratings\n",
    "data = Dataset() #lighhtFM dataset\n",
    "data.fit(np.arange(n_users), np.arange(n_items))\n",
    "interactions, weights = data.build_interactions(zip(Xcoo.row, Xcoo.col, Xcoo.data)) \n",
    "train, test = random_train_test_split(interactions)\n",
    "\n",
    "# Ignore that (weight seems to be ignored...)\n",
    "#train = train_.tocsr()\n",
    "#test = test_.tocsr()\n",
    "#train[train==1] = X[train==1]\n",
    "#test[test==1] = X[test==1]\n",
    "\n",
    "# To be completed...\n"
   ]
  },
  {
   "cell_type": "markdown",
   "metadata": {},
   "source": [
    "#### SGD model with a learning_rate of 0.05"
   ]
  },
  {
   "cell_type": "code",
   "execution_count": 10,
   "metadata": {},
   "outputs": [
    {
     "data": {
      "text/plain": [
       "<lightfm.lightfm.LightFM at 0x7f665cab0d90>"
      ]
     },
     "execution_count": 10,
     "metadata": {},
     "output_type": "execute_result"
    }
   ],
   "source": [
    "# Train\n",
    "model = LightFM(learning_rate=0.05, loss='warp') # model SGD with a learning_rate\n",
    "model.fit(train, epochs=10, num_threads=2)"
   ]
  },
  {
   "cell_type": "code",
   "execution_count": 11,
   "metadata": {},
   "outputs": [
    {
     "name": "stdout",
     "output_type": "stream",
     "text": [
      "Precision: train 0.45, test 0.21.\n",
      "AUC: train 0.97, test 0.86.\n"
     ]
    }
   ],
   "source": [
    "# Evaluate\n",
    "# Measure the precision at k metric for a model: \n",
    "# the fraction of known positives in the first k positions of the ranked list of results. A perfect score is 1.0.\n",
    "train_precision = precision_at_k(model, train, k=3).mean()\n",
    "test_precision = precision_at_k(model, test, k=3, train_interactions=train).mean()\n",
    "\n",
    "train_auc = auc_score(model, train).mean()\n",
    "test_auc = auc_score(model, test, train_interactions=train).mean()\n",
    "\n",
    "print('Precision: train %.2f, test %.2f.' % (train_precision, test_precision))\n",
    "print('AUC: train %.2f, test %.2f.' % (train_auc, test_auc))"
   ]
  },
  {
   "cell_type": "raw",
   "metadata": {},
   "source": [
    "#format de la methode predict() de lightFM:\n",
    "    def predict(\n",
    "        self, user_ids, item_ids, item_features=None, user_features=None, num_threads=1\n",
    "    ):"
   ]
  },
  {
   "cell_type": "code",
   "execution_count": 12,
   "metadata": {},
   "outputs": [
    {
     "name": "stdout",
     "output_type": "stream",
     "text": [
      "['The Beatles' 'Radiohead' 'David Bowie' 'Depeche Mode' 'Muse' 'Coldplay'\n",
      " 'The Killers' 'Arctic Monkeys' 'Kings of Leon' 'Sigur Rós']\n"
     ]
    }
   ],
   "source": [
    "# Predict\n",
    "scores = model.predict(0, np.arange(n_items))\n",
    "top_items = artist_names[np.argsort(-scores)]\n",
    "print(top_items[0:10])"
   ]
  },
  {
   "cell_type": "markdown",
   "metadata": {},
   "source": [
    "#### Other models :\n",
    "\n",
    "Four loss functions are available:\n",
    "- logistic: useful when both positive (1) and negative (-1) interactions\n",
    "  are present.\n",
    "- BPR: Bayesian Personalised Ranking [1]_ pairwise loss. Maximises the\n",
    "  prediction difference between a positive example and a randomly\n",
    "  chosen negative example. Useful when only positive interactions\n",
    "  are present and optimising ROC AUC is desired.\n",
    "- WARP: Weighted Approximate-Rank Pairwise [2]_ loss. Maximises\n",
    "  the rank of positive examples by repeatedly sampling negative\n",
    "  examples until rank violating one is found. Useful when only\n",
    "  positive interactions are present and optimising the top of\n",
    "  the recommendation list (precision@k) is desired.\n",
    "- k-OS WARP: k-th order statistic loss [3]_. A modification of WARP that\n",
    "  uses the k-th positive example for any given user as a basis for pairwise\n",
    "  updates.: Bayesian Personalised Ranking [1]_ pairwise loss. Maximises the\n",
    "  prediction difference between a positive example and a randomly\n",
    "  chosen negative example. Useful when only positive interactions\n",
    "  are present and optimising ROC AUC is desired.\n",
    "  \n",
    "WARP: Weighted Approximate-Rank Pairwise [2]_ loss. Maximises\n",
    "  the rank of positive examples by repeatedly sampling negative\n",
    "  examples until rank violating one is found. Useful when only\n",
    "  positive interactions are present and optimising the top of\n",
    "  the recommendation list (precision@k) is desired.\n",
    "k-OS WARP: k-th order statistic loss [3]_. A modification of WARP that\n",
    "  uses the k-th positive example for any given user as a basis for pairwise\n",
    "  updates."
   ]
  },
  {
   "cell_type": "markdown",
   "metadata": {},
   "source": [
    "#### Precision and AUC measurements for the 4 different models of lightFM"
   ]
  },
  {
   "cell_type": "code",
   "execution_count": 13,
   "metadata": {},
   "outputs": [],
   "source": [
    "model = ['warp','bpr','warp-kos','logistic']\n",
    "train_precision = []\n",
    "test_precision = []\n",
    "train_auc = []\n",
    "test_auc = []\n",
    "\n",
    "for mod in model:\n",
    "    model = LightFM(loss=mod) # model SGD with a learning_rate\n",
    "    model.fit(train, epochs=10, num_threads=2)\n",
    "    \n",
    "    train_precision.append(precision_at_k(model, train, k=3).mean())\n",
    "    test_precision.append(precision_at_k(model, test, k=3, train_interactions=train).mean())\n",
    "\n",
    "    train_auc.append(auc_score(model, train).mean())\n",
    "    test_auc.append(auc_score(model, test, train_interactions=train).mean())"
   ]
  },
  {
   "cell_type": "code",
   "execution_count": 14,
   "metadata": {
    "scrolled": false
   },
   "outputs": [
    {
     "data": {
      "text/html": [
       "<div>\n",
       "<style scoped>\n",
       "    .dataframe tbody tr th:only-of-type {\n",
       "        vertical-align: middle;\n",
       "    }\n",
       "\n",
       "    .dataframe tbody tr th {\n",
       "        vertical-align: top;\n",
       "    }\n",
       "\n",
       "    .dataframe thead th {\n",
       "        text-align: right;\n",
       "    }\n",
       "</style>\n",
       "<table border=\"1\" class=\"dataframe\">\n",
       "  <thead>\n",
       "    <tr style=\"text-align: right;\">\n",
       "      <th></th>\n",
       "      <th>warp</th>\n",
       "      <th>bpr</th>\n",
       "      <th>warp-kos</th>\n",
       "      <th>logistic</th>\n",
       "    </tr>\n",
       "  </thead>\n",
       "  <tbody>\n",
       "    <tr>\n",
       "      <th>train_precision</th>\n",
       "      <td>0.448270</td>\n",
       "      <td>0.459922</td>\n",
       "      <td>0.380473</td>\n",
       "      <td>0.233051</td>\n",
       "    </tr>\n",
       "    <tr>\n",
       "      <th>test_precision</th>\n",
       "      <td>0.205882</td>\n",
       "      <td>0.199109</td>\n",
       "      <td>0.169875</td>\n",
       "      <td>0.089305</td>\n",
       "    </tr>\n",
       "    <tr>\n",
       "      <th>train_auc</th>\n",
       "      <td>0.962830</td>\n",
       "      <td>0.844371</td>\n",
       "      <td>0.888872</td>\n",
       "      <td>0.887278</td>\n",
       "    </tr>\n",
       "    <tr>\n",
       "      <th>test_auc</th>\n",
       "      <td>0.856163</td>\n",
       "      <td>0.776621</td>\n",
       "      <td>0.820650</td>\n",
       "      <td>0.809755</td>\n",
       "    </tr>\n",
       "  </tbody>\n",
       "</table>\n",
       "</div>"
      ],
      "text/plain": [
       "                     warp       bpr  warp-kos  logistic\n",
       "train_precision  0.448270  0.459922  0.380473  0.233051\n",
       "test_precision   0.205882  0.199109  0.169875  0.089305\n",
       "train_auc        0.962830  0.844371  0.888872  0.887278\n",
       "test_auc         0.856163  0.776621  0.820650  0.809755"
      ]
     },
     "execution_count": 14,
     "metadata": {},
     "output_type": "execute_result"
    }
   ],
   "source": [
    "res = pd.DataFrame([train_precision,test_precision,train_auc,test_auc], index = ['train_precision','test_precision'\n",
    "                                        ,'train_auc','test_auc'] ,columns =['warp','bpr','warp-kos','logistic'])\n",
    "res   "
   ]
  },
  {
   "cell_type": "raw",
   "metadata": {},
   "source": [
    "Le model Warp semble donner le meilleur résultat"
   ]
  },
  {
   "cell_type": "markdown",
   "metadata": {},
   "source": [
    "#### item_embeddings\t :\n",
    "    item_embeddings (np.float32 array of shape [n_item_features, n_components]) – Contains the estimated latent vectors for item features. The [i, j]-th entry gives the value of the j-th component for the i-th item feature. In the simplest case where the item feature matrix is an identity matrix, the i-th row will represent the i-th item latent vector."
   ]
  },
  {
   "cell_type": "markdown",
   "metadata": {},
   "source": [
    "#### user_embeddings :\n",
    "user_embeddings (np.float32 array of shape [n_user_features, n_components]) – Contains the estimated latent vectors for user features. The [i, j]-th entry gives the value of the j-th component for the i-th user feature. In the simplest case where the user feature matrix is an identity matrix, the i-th row will represent the i-th user latent vector."
   ]
  },
  {
   "cell_type": "markdown",
   "metadata": {},
   "source": [
    "#### PCA and TruncateSVD :"
   ]
  },
  {
   "cell_type": "code",
   "execution_count": null,
   "metadata": {},
   "outputs": [],
   "source": [
    "# Preprocessing\n",
    "#pc = ap.playCount\n",
    "#play_count_scaled = (pc - pc.min()) / (pc.max() - pc.min())\n",
    "#ap = ap.assign(playCountScaled=play_count_scaled)\n",
    "#print(ap)\n",
    "\n",
    "# Build a user-artist rating matrix \n",
    "#ratings_df = ap.pivot(index='userID', columns='artistID', values='playCountScaled')\n",
    "#ratings = ratings_df.fillna(0).values"
   ]
  },
  {
   "cell_type": "markdown",
   "metadata": {},
   "source": [
    "#### Ground truth :"
   ]
  },
  {
   "cell_type": "code",
   "execution_count": 15,
   "metadata": {
    "scrolled": false
   },
   "outputs": [],
   "source": [
    "#Artistes dont le userID est de donné en parametre classés suivant playCountScaled:\n",
    "def get_ground_truth_artists_for_user(userID):    \n",
    "    art = list(enumerate(ratings[userID]))\n",
    "    art = sorted(art, key=lambda x: x[1], reverse=True)\n",
    "    art = art[1:31]\n",
    "    art_indx = [i[0] for i in art]  \n",
    "    artistes = []\n",
    "    for i in art_indx:\n",
    "        artistes.append(ap['name'][ap['artistID']==i].unique()[0])\n",
    "    return artistes"
   ]
  },
  {
   "cell_type": "code",
   "execution_count": 16,
   "metadata": {},
   "outputs": [],
   "source": [
    "from sklearn.decomposition import TruncatedSVD\n",
    "\n",
    "# Build a sparse matrix\n",
    "X = csr_matrix(ratings)\n",
    "\n",
    "svd = TruncatedSVD(n_components=1000, n_iter=7, random_state=42)\n",
    "X_matrix_svd = svd.fit_transform(X)"
   ]
  },
  {
   "cell_type": "code",
   "execution_count": 17,
   "metadata": {},
   "outputs": [],
   "source": [
    "from copy import deepcopy\n",
    "# Function that takes in user_id as input and outputs most similar users and the artits ratings\n",
    "def get_recommendations(user_id, cosine_sim):\n",
    "    \n",
    "    start = time.time()\n",
    "    \n",
    "    # Get the index of the user that matches the title\n",
    "    #idx = indices[user]\n",
    "\n",
    "    # Get the pairwsie similarity scores of all users with that user\n",
    "    sim_scores = list(enumerate(cosine_sim))\n",
    "\n",
    "    # Sort the users based on the similarity ratings of the artists\n",
    "    sim_scores = sorted(sim_scores, key=lambda x: x[1], reverse=True)\n",
    "\n",
    "    # Get the scores of the 50 most similar users\n",
    "    sim_scores = sim_scores[1:11]\n",
    "\n",
    "    # Get the user indices similar to the user in parameter\n",
    "    user_indices = [i[0] for i in sim_scores]    \n",
    "    \n",
    "    time_res = time.time() - start\n",
    "    \n",
    "    artist_top = []\n",
    "    idx_i_list={}\n",
    "    ratings_ = deepcopy(ratings)\n",
    "    for i in user_indices:\n",
    "        # take the 5 most important artists for this user\n",
    "        for j in range(5):\n",
    "            idx_i = np.argmax(ratings_[i])\n",
    "            idx_i_list[i]=idx_i  \n",
    "            ratings_[i][idx_i]=-1\n",
    "        for i, idx in idx_i_list.items():\n",
    "            if ap['name'][ap['artistID']==idx].unique()[0] not in artist_top:\n",
    "                artist_top.append(ap['name'][ap['artistID']==idx].unique()[0]) \n",
    "            \n",
    "    # Return the top 50 most similar users ratings of artists\n",
    "    return artist_top,time_res, idx_i_list"
   ]
  },
  {
   "cell_type": "code",
   "execution_count": 18,
   "metadata": {},
   "outputs": [],
   "source": [
    "import time\n",
    "from sklearn.metrics.pairwise import linear_kernel\n",
    "\n",
    "\n",
    "def cosine_similarity(user_id):\n",
    "    cos_sim = linear_kernel(X_matrix_svd,X_matrix_svd[user_id].reshape(1, -1))\n",
    "    return cos_sim"
   ]
  },
  {
   "cell_type": "code",
   "execution_count": 19,
   "metadata": {
    "scrolled": true
   },
   "outputs": [
    {
     "name": "stdout",
     "output_type": "stream",
     "text": [
      "0.015358448028564453\n"
     ]
    }
   ],
   "source": [
    "user_id = 0\n",
    "artist_top, time_res, idx_i_list = get_recommendations(user_id, cosine_sim = cosine_similarity(user_id))\n",
    "\n",
    "print(time_res)"
   ]
  },
  {
   "cell_type": "code",
   "execution_count": 20,
   "metadata": {},
   "outputs": [],
   "source": [
    "def most_rec_artists():\n",
    "    artist_names_rec_hist = []\n",
    "    for i in range(10):\n",
    "        userID = np.random(ratings)\n",
    "        artist_names_rec_hist.append(get_top_artists_recommended_svd(userID))\n",
    "        \n",
    "    return artist_names_rec_hist"
   ]
  },
  {
   "cell_type": "markdown",
   "metadata": {},
   "source": [
    "#### Accuracy score :\n",
    "for the SVD model"
   ]
  },
  {
   "cell_type": "code",
   "execution_count": 24,
   "metadata": {},
   "outputs": [],
   "source": [
    "artist_truth = get_ground_truth_artists_for_user(0)"
   ]
  },
  {
   "cell_type": "code",
   "execution_count": 25,
   "metadata": {},
   "outputs": [],
   "source": [
    "def accuracy_score(artists_recommended):\n",
    "    score = 0\n",
    "    for art in artists_recommended:\n",
    "        if art in artist_truth:\n",
    "            score+=1\n",
    "    return score/len(artists_recommended)"
   ]
  },
  {
   "cell_type": "code",
   "execution_count": 26,
   "metadata": {},
   "outputs": [
    {
     "data": {
      "text/plain": [
       "0.1"
      ]
     },
     "execution_count": 26,
     "metadata": {},
     "output_type": "execute_result"
    }
   ],
   "source": [
    "acc_score = accuracy_score(artist_top)\n",
    "round(acc_score,3)"
   ]
  },
  {
   "cell_type": "raw",
   "metadata": {},
   "source": [
    "for the lightFM "
   ]
  },
  {
   "cell_type": "code",
   "execution_count": 27,
   "metadata": {},
   "outputs": [
    {
     "data": {
      "text/plain": [
       "0.111"
      ]
     },
     "execution_count": 27,
     "metadata": {},
     "output_type": "execute_result"
    }
   ],
   "source": [
    "acc_score = accuracy_score(top_items[0:18])\n",
    "round(acc_score,3)"
   ]
  },
  {
   "cell_type": "markdown",
   "metadata": {},
   "source": [
    "##### As for the accuracy the results are quite the same for the LightFM and the SVD model"
   ]
  },
  {
   "cell_type": "markdown",
   "metadata": {},
   "source": [
    "#### AUC score :    "
   ]
  },
  {
   "cell_type": "code",
   "execution_count": 28,
   "metadata": {},
   "outputs": [],
   "source": [
    "from sklearn.metrics import roc_auc_score\n",
    "\n",
    "y = artist_truth\n",
    "\n",
    "#roc_auc_score(y, artist_top, multi_class='ovr')"
   ]
  },
  {
   "cell_type": "code",
   "execution_count": 29,
   "metadata": {},
   "outputs": [],
   "source": [
    "# Import train_test_split function\n",
    "from sklearn.model_selection import train_test_split\n",
    "\n",
    "# Split dataset into training set and test set\n",
    "#X_train, X_test, y_train, y_test = train_test_split(ap, ap['artistID'], test_size=0.2) # 70% training and 30% test\n"
   ]
  },
  {
   "cell_type": "code",
   "execution_count": 51,
   "metadata": {},
   "outputs": [],
   "source": [
    "from sklearn.metrics import classification_report\n",
    "\n",
    "#print(classification_report(y_test, top_items))"
   ]
  },
  {
   "cell_type": "code",
   "execution_count": null,
   "metadata": {},
   "outputs": [],
   "source": [
    "from sklearn.metrics import plot_precision_recall_curve\n",
    "from sklearn.metrics import average_precision_score\n",
    "\n",
    "#average_precision = average_precision_score(y_test, y_pred)\n",
    "\n",
    "#disp = plot_precision_recall_curve(clf, scaled_data_test, y_test)\n",
    "#disp.ax_.set_title('2-class Precision-Recall curve: '\n",
    "                   'AP={0:0.2f}'.format(average_precision))"
   ]
  },
  {
   "cell_type": "markdown",
   "metadata": {},
   "source": [
    "#### fit_partial :"
   ]
  },
  {
   "cell_type": "raw",
   "metadata": {},
   "source": [
    "fit_partial(interactions, user_features=None, item_features=None, sample_weight=None, epochs=1, num_threads=1, verbose=False)"
   ]
  },
  {
   "cell_type": "markdown",
   "metadata": {},
   "source": [
    "#### Convergence du modle LightFM :"
   ]
  },
  {
   "cell_type": "code",
   "execution_count": 31,
   "metadata": {},
   "outputs": [],
   "source": [
    "model = LightFM(learning_rate=0.05, loss='warp') \n",
    "auc_test = []\n",
    "def fit_partial():\n",
    "    for i in range(1,50):\n",
    "        model.fit_partial(train, epochs=1, num_threads=2)\n",
    "        auc_test.append(auc_score(model, test).mean())\n",
    "    return auc_test\n",
    "auc_test = fit_partial()"
   ]
  },
  {
   "cell_type": "code",
   "execution_count": 32,
   "metadata": {
    "scrolled": true
   },
   "outputs": [
    {
     "data": {
      "image/png": "[encoded data removed]",
      "text/plain": [
       "<Figure size 432x288 with 1 Axes>"
      ]
     },
     "metadata": {
      "needs_background": "light"
     },
     "output_type": "display_data"
    }
   ],
   "source": [
    "import numpy as np\n",
    "import matplotlib.pyplot as plt\n",
    "\n",
    "x = np.arange(len(auc_test))\n",
    "plt.plot(x, np.array(auc_test))\n",
    "\n",
    "plt.show() # affiche la figure a l'ecran"
   ]
  },
  {
   "cell_type": "raw",
   "metadata": {},
   "source": [
    "L'auc_test converge vers 87 % au bout de 50 itérations d'entraitenement"
   ]
  },
  {
   "cell_type": "markdown",
   "metadata": {},
   "source": [
    "#### Grid search cv :"
   ]
  },
  {
   "cell_type": "raw",
   "metadata": {},
   "source": [
    "Optimization des hyper-paramètres (k, n, learning_schedule, learning_rate)"
   ]
  },
  {
   "cell_type": "raw",
   "metadata": {},
   "source": [
    "class lightfm.LightFM(no_components=10, k=5, n=10, learning_schedule=’adagrad’, loss=’logistic’, learning_rate=0.05, rho=0.95, epsilon=1e-06, item_alpha=0.0, user_alpha=0.0, max_sampled=10, random_state=None)"
   ]
  },
  {
   "cell_type": "raw",
   "metadata": {},
   "source": [
    "no_components (int, optional) – the dimensionality of the feature latent embeddings.\n",
    "k (int, optional) – for k-OS training, the k-th positive example will be selected from the n positive examples sampled for every user.\n",
    "n (int, optional) – for k-OS training, maximum number of positives sampled for each update.\n",
    "learning_schedule (string, optional) – one of (‘adagrad’, ‘adadelta’).\n",
    "loss (string, optional) – one of (‘logistic’, ‘bpr’, ‘warp’, ‘warp-kos’): the loss function.\n",
    "learning_rate (float, optional) – initial learning rate for the adagrad learning schedule."
   ]
  },
  {
   "cell_type": "code",
   "execution_count": 30,
   "metadata": {},
   "outputs": [],
   "source": [
    "from sklearn.metrics import fbeta_score, make_scorer\n",
    "\n",
    "scorer = make_scorer(auc_score(model, test))"
   ]
  },
  {
   "cell_type": "code",
   "execution_count": 33,
   "metadata": {},
   "outputs": [
    {
     "data": {
      "text/plain": [
       "<lightfm.lightfm.LightFM at 0x7fc911546ed0>"
      ]
     },
     "execution_count": 33,
     "metadata": {},
     "output_type": "execute_result"
    }
   ],
   "source": [
    "# Train\n",
    "model = LightFM(learning_rate=0.05, loss='warp') # model SGD with a learning_rate\n",
    "model.fit(train, epochs=10, num_threads=2)"
   ]
  },
  {
   "cell_type": "code",
   "execution_count": 53,
   "metadata": {
    "scrolled": false
   },
   "outputs": [],
   "source": [
    "from sklearn.model_selection import GridSearchCV\n",
    "from sklearn.exceptions import ConvergenceWarning\n",
    "from sklearn.metrics import fbeta_score, make_scorer\n",
    "\n",
    "import warnings\n",
    "\n",
    "params = {\n",
    "    'no_components': [5, 10, 20, 40, 80],\n",
    "    'k' : [3, 5, 10, 15, 20],\n",
    "    'n' : [5, 10, 20, 40, 80],\n",
    "    'learning_schedule': ['adagrad', 'adadelta'],\n",
    "    'learning_rate' : [0.5, 0.1, 0.05, 0.01, 0.005]\n",
    "}\n",
    "warnings.filterwarnings(\"ignore\", category=ConvergenceWarning)\n",
    "\n",
    "#scorer = make_scorer(auc_score)\n",
    "scorer = make_scorer(auc_score(model, test))\n",
    "\n",
    "grid = GridSearchCV(estimator=LightFM(),\n",
    "                    param_grid=params, scoring=scorer, verbose=1)\n",
    "#grid.fit(train, epochs=10, num_threads=2)"
   ]
  },
  {
   "cell_type": "raw",
   "metadata": {},
   "source": [
    "LightFM est un modèle qui fonctionne en non supervisé, il n'y a donc pas de y_true\n",
    "Ainsi la mise en oeuvre de GridSearchCV ne fonctionne pas \n",
    "Notre scorer._score() renvoie ainsi une erreur:\n",
    "    \"_score() missing 1 required positional argument: 'y_true'\""
   ]
  },
  {
   "cell_type": "markdown",
   "metadata": {},
   "source": [
    "#### Test avec plusieurs parametres : \n",
    "    params = {\n",
    "    'no_components': [5, 10, 20, 40, 80],\n",
    "    'k' : [3, 5, 10, 15, 20],\n",
    "    'n' : [5, 10, 20, 40, 80],\n",
    "    'learning_schedule': ['adagrad', 'adadelta'],\n",
    "    'learning_rate' : [0.5, 0.1, 0.05, 0.01, 0.005]\n",
    "}"
   ]
  },
  {
   "cell_type": "code",
   "execution_count": 47,
   "metadata": {},
   "outputs": [],
   "source": [
    "params = {\n",
    "    'no_components': [5, 10, 20, 40, 80],\n",
    "    'k' : [3, 5, 10, 15, 20],\n",
    "    'n' : [5, 10, 20, 40, 80],\n",
    "    'learning_schedule': ['adagrad', 'adadelta'],\n",
    "    'learning_rate' : [0.5, 0.1, 0.05, 0.01, 0.005]\n",
    "}\n",
    "train_precision = []\n",
    "test_precision = []\n",
    "train_auc = []\n",
    "test_auc = []\n",
    "learning_schedule = ['adagrad', 'adadelta']\n",
    "for ls in learning_schedule :\n",
    "    for i in range(5):    \n",
    "        model = LightFM(no_components = params['no_components'][i],\n",
    "                        k = params['k'][i],\n",
    "                        n = params['n'][i],\n",
    "                        learning_schedule = ls,\n",
    "                        learning_rate = params['learning_rate'][i],\n",
    "                        loss='warp')\n",
    "        model.fit(train, epochs=10, num_threads=2)\n",
    "    \n",
    "        train_precision.append(precision_at_k(model, train, k=3).mean())\n",
    "        test_precision.append(precision_at_k(model, test, k=3, train_interactions=train).mean())\n",
    "\n",
    "        train_auc.append(auc_score(model, train).mean())\n",
    "        test_auc.append(auc_score(model, test, train_interactions=train).mean())           \n",
    "     "
   ]
  },
  {
   "cell_type": "code",
   "execution_count": 48,
   "metadata": {},
   "outputs": [
    {
     "data": {
      "text/html": [
       "<div>\n",
       "<style scoped>\n",
       "    .dataframe tbody tr th:only-of-type {\n",
       "        vertical-align: middle;\n",
       "    }\n",
       "\n",
       "    .dataframe tbody tr th {\n",
       "        vertical-align: top;\n",
       "    }\n",
       "\n",
       "    .dataframe thead th {\n",
       "        text-align: right;\n",
       "    }\n",
       "</style>\n",
       "<table border=\"1\" class=\"dataframe\">\n",
       "  <thead>\n",
       "    <tr style=\"text-align: right;\">\n",
       "      <th></th>\n",
       "      <th>algo1</th>\n",
       "      <th>algo2</th>\n",
       "      <th>algo3</th>\n",
       "      <th>algo4</th>\n",
       "      <th>algo5</th>\n",
       "      <th>algo6</th>\n",
       "      <th>algo7</th>\n",
       "      <th>algo8</th>\n",
       "      <th>algo9</th>\n",
       "      <th>algo10</th>\n",
       "    </tr>\n",
       "  </thead>\n",
       "  <tbody>\n",
       "    <tr>\n",
       "      <th>train_precision</th>\n",
       "      <td>0.001062</td>\n",
       "      <td>0.429052</td>\n",
       "      <td>0.514685</td>\n",
       "      <td>0.355449</td>\n",
       "      <td>0.333687</td>\n",
       "      <td>0.374912</td>\n",
       "      <td>0.418436</td>\n",
       "      <td>0.458422</td>\n",
       "      <td>0.514862</td>\n",
       "      <td>0.593418</td>\n",
       "    </tr>\n",
       "    <tr>\n",
       "      <th>test_precision</th>\n",
       "      <td>0.000177</td>\n",
       "      <td>0.185284</td>\n",
       "      <td>0.226418</td>\n",
       "      <td>0.159220</td>\n",
       "      <td>0.154787</td>\n",
       "      <td>0.177128</td>\n",
       "      <td>0.189362</td>\n",
       "      <td>0.208156</td>\n",
       "      <td>0.211170</td>\n",
       "      <td>0.220390</td>\n",
       "    </tr>\n",
       "    <tr>\n",
       "      <th>train_auc</th>\n",
       "      <td>0.536034</td>\n",
       "      <td>0.983482</td>\n",
       "      <td>0.982749</td>\n",
       "      <td>0.898725</td>\n",
       "      <td>0.888921</td>\n",
       "      <td>0.930433</td>\n",
       "      <td>0.950565</td>\n",
       "      <td>0.970104</td>\n",
       "      <td>0.983736</td>\n",
       "      <td>0.992808</td>\n",
       "    </tr>\n",
       "    <tr>\n",
       "      <th>test_auc</th>\n",
       "      <td>0.498819</td>\n",
       "      <td>0.844516</td>\n",
       "      <td>0.869450</td>\n",
       "      <td>0.825406</td>\n",
       "      <td>0.821572</td>\n",
       "      <td>0.850311</td>\n",
       "      <td>0.862213</td>\n",
       "      <td>0.878276</td>\n",
       "      <td>0.886117</td>\n",
       "      <td>0.887611</td>\n",
       "    </tr>\n",
       "  </tbody>\n",
       "</table>\n",
       "</div>"
      ],
      "text/plain": [
       "                    algo1     algo2     algo3     algo4     algo5     algo6  \\\n",
       "train_precision  0.001062  0.429052  0.514685  0.355449  0.333687  0.374912   \n",
       "test_precision   0.000177  0.185284  0.226418  0.159220  0.154787  0.177128   \n",
       "train_auc        0.536034  0.983482  0.982749  0.898725  0.888921  0.930433   \n",
       "test_auc         0.498819  0.844516  0.869450  0.825406  0.821572  0.850311   \n",
       "\n",
       "                    algo7     algo8     algo9    algo10  \n",
       "train_precision  0.418436  0.458422  0.514862  0.593418  \n",
       "test_precision   0.189362  0.208156  0.211170  0.220390  \n",
       "train_auc        0.950565  0.970104  0.983736  0.992808  \n",
       "test_auc         0.862213  0.878276  0.886117  0.887611  "
      ]
     },
     "execution_count": 48,
     "metadata": {},
     "output_type": "execute_result"
    }
   ],
   "source": [
    "res = pd.DataFrame([train_precision,test_precision,train_auc,test_auc], index = ['train_precision','test_precision'\n",
    "                                        ,'train_auc','test_auc'] ,columns =['algo1','algo2','algo3','algo4','algo5','algo6','algo7','algo8','algo9','algo10'])\n",
    "res   "
   ]
  },
  {
   "cell_type": "markdown",
   "metadata": {},
   "source": [
    "#### L'algo le plus performant en terme de resultat pour l'auc_test :"
   ]
  },
  {
   "cell_type": "code",
   "execution_count": 25,
   "metadata": {},
   "outputs": [
    {
     "data": {
      "text/plain": [
       "train_precision    0.319710\n",
       "test_precision     0.155142\n",
       "train_auc          0.903952\n",
       "test_auc           0.817408\n",
       "dtype: float64"
      ]
     },
     "execution_count": 25,
     "metadata": {},
     "output_type": "execute_result"
    }
   ],
   "source": [
    "res.max(axis = 1)"
   ]
  },
  {
   "cell_type": "raw",
   "metadata": {},
   "source": [
    "# Le dernier algo10 donne les meilleurs résultats:\n",
    "    params = \n",
    "    'no_components': 80,\n",
    "    'k' : 20,\n",
    "    'n' : 80,\n",
    "    'learning_schedule': 'adadelta',\n",
    "    'learning_rate' : 0.005,\n",
    "    'loss' : 'warp'\n",
    "}"
   ]
  },
  {
   "cell_type": "code",
   "execution_count": 45,
   "metadata": {},
   "outputs": [],
   "source": [
    "train_precision = []\n",
    "test_precision = []\n",
    "train_auc = []\n",
    "test_auc = []\n",
    "model = LightFM(no_components = 80,\n",
    "                        k = 20,\n",
    "                        n = 80,\n",
    "                        learning_schedule = 'adadelta',\n",
    "                        learning_rate = 0.005,\n",
    "                        loss='warp')\n",
    "model.fit(train, epochs=10, num_threads=2)\n",
    "    \n",
    "train_precision.append(precision_at_k(model, train, k=3).mean())\n",
    "test_precision.append(precision_at_k(model, test, k=3, train_interactions=train).mean())\n",
    "\n",
    "train_auc.append(auc_score(model, train).mean())\n",
    "test_auc.append(auc_score(model, test, train_interactions=train).mean())     "
   ]
  },
  {
   "cell_type": "code",
   "execution_count": 46,
   "metadata": {
    "scrolled": false
   },
   "outputs": [
    {
     "data": {
      "text/html": [
       "<div>\n",
       "<style scoped>\n",
       "    .dataframe tbody tr th:only-of-type {\n",
       "        vertical-align: middle;\n",
       "    }\n",
       "\n",
       "    .dataframe tbody tr th {\n",
       "        vertical-align: top;\n",
       "    }\n",
       "\n",
       "    .dataframe thead th {\n",
       "        text-align: right;\n",
       "    }\n",
       "</style>\n",
       "<table border=\"1\" class=\"dataframe\">\n",
       "  <thead>\n",
       "    <tr style=\"text-align: right;\">\n",
       "      <th></th>\n",
       "      <th>algo10</th>\n",
       "    </tr>\n",
       "  </thead>\n",
       "  <tbody>\n",
       "    <tr>\n",
       "      <th>train_precision</th>\n",
       "      <td>0.599434</td>\n",
       "    </tr>\n",
       "    <tr>\n",
       "      <th>test_precision</th>\n",
       "      <td>0.206206</td>\n",
       "    </tr>\n",
       "    <tr>\n",
       "      <th>train_auc</th>\n",
       "      <td>0.992281</td>\n",
       "    </tr>\n",
       "    <tr>\n",
       "      <th>test_auc</th>\n",
       "      <td>0.887306</td>\n",
       "    </tr>\n",
       "  </tbody>\n",
       "</table>\n",
       "</div>"
      ],
      "text/plain": [
       "                   algo10\n",
       "train_precision  0.599434\n",
       "test_precision   0.206206\n",
       "train_auc        0.992281\n",
       "test_auc         0.887306"
      ]
     },
     "execution_count": 46,
     "metadata": {},
     "output_type": "execute_result"
    }
   ],
   "source": [
    "res = pd.DataFrame([train_precision,test_precision,train_auc,test_auc], index = ['train_precision','test_precision'\n",
    "                                        ,'train_auc','test_auc'] ,columns =['algo10'])\n",
    "res "
   ]
  },
  {
   "cell_type": "raw",
   "metadata": {},
   "source": [
    "On arrive à un résultat de test_auc proche de 0.9"
   ]
  }
 ],
 "metadata": {
  "kernelspec": {
   "display_name": "Python 3",
   "language": "python",
   "name": "python3"
  },
  "language_info": {
   "codemirror_mode": {
    "name": "ipython",
    "version": 3
   },
   "file_extension": ".py",
   "mimetype": "text/x-python",
   "name": "python",
   "nbconvert_exporter": "python",
   "pygments_lexer": "ipython3",
   "version": "3.7.9"
  }
 },
 "nbformat": 4,
 "nbformat_minor": 4
}
